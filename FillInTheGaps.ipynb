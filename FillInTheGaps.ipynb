{
 "cells": [
  {
   "cell_type": "code",
   "execution_count": 1,
   "metadata": {},
   "outputs": [],
   "source": [
    "import subprocess\n",
    "import os\n",
    "import copy\n",
    "import math\n",
    "\n",
    "import semantic as s\n",
    "import semantic_rule_set\n",
    "import rules\n",
    "\n",
    "import en"
   ]
  },
  {
   "cell_type": "code",
   "execution_count": 2,
   "metadata": {},
   "outputs": [],
   "source": [
    "#setup\n",
    "training_sentences_file = 'Input/training.txt'\n",
    "gap_sentences_file = 'Input/testing.txt'\n",
    "\n",
    "with open(training_sentences_file, 'r') as f:\n",
    "    training_sentences = [x.strip() for x in f]\n",
    "with open(gap_sentences_file, 'r') as f:\n",
    "    gap_sentences = [x.strip() for x in f]\n",
    "\n",
    "sem = semantic_rule_set.SemanticRuleSet()\n",
    "sem = rules.addLexicon(sem)"
   ]
  },
  {
   "cell_type": "markdown",
   "metadata": {},
   "source": [
    "### Predicting the missing word\n",
    "\n",
    "Our goal is take a sentence with a missing word -- \n",
    " for example \"Mary eats a \\_\", and replace the blank with a 'reasonable' replacement word.\n",
    "This task is something that people do everyday, especially in a noisy setting or when speaking to someone with a thick accent. \n",
    "However, this task goes beyond just syntactic validity, since few people would guess that the sentence was 'Mary eats a laptop'. We need to inject some notion of semantics. However, we cannot just naively apply methods from WordNet, because we are missing the word that fits in the blank. Most WordNet methods are ways of mapping from one word to other words that are related in a particular way, eg hypernymy or synonymy. \n",
    "\n",
    "So in order to move forward, we should first come up with a way of distinguishing valid sentences in a way that lets us generate a missing word. We decided to adopt a model of language learning that is very similar to the notion of near-miss learning. We take a set of training sentences, use software from lab 3 to convert them into event structures, and group event structures together in a way that lets us generalize semantically valid sentences from our training data. This means that we are assuming that the training data is semantically valid. \n",
    "\n",
    "Below, we will experiment with different grouping and generalization strategies in order to determine semantically valid replacements for a missing word."
   ]
  },
  {
   "cell_type": "markdown",
   "metadata": {},
   "source": [
    "### Generate Event Structures\n",
    "First we generate event structures from sentences, which we store in a list of dictionaries for simplicity."
   ]
  },
  {
   "cell_type": "code",
   "execution_count": 3,
   "metadata": {},
   "outputs": [
    {
     "name": "stdout",
     "output_type": "stream",
     "text": [
      "['Mary _ the potato']\n",
      "{'action': 'eat', 'patient': 'potato', 'tense': 'present', 'agent': 'John'}\n",
      "{'action': 'eat', 'patient': 'tomato', 'tense': 'present', 'agent': 'John'}\n",
      "{'action': 'eat', 'patient': 'tomato', 'tense': 'present', 'agent': 'Mary'}\n"
     ]
    }
   ],
   "source": [
    "print gap_sentences\n",
    "events = map(lambda sent: s.sentenceToEventDict(sem, sent), training_sentences)\n",
    "for e in events:\n",
    "    print e"
   ]
  },
  {
   "cell_type": "markdown",
   "metadata": {},
   "source": [
    "### Simplest Strategy: No Grouping"
   ]
  },
  {
   "cell_type": "code",
   "execution_count": 4,
   "metadata": {},
   "outputs": [
    {
     "name": "stdout",
     "output_type": "stream",
     "text": [
      "{'action': 'eat', 'patient': 'potato', 'tense': 'present', 'agent': 'John'}\n",
      "{'action': 'eat', 'patient': 'tomato', 'tense': 'present', 'agent': 'John'}\n",
      "{'action': 'eat', 'patient': 'tomato', 'tense': 'present', 'agent': 'Mary'}\n"
     ]
    }
   ],
   "source": [
    "#Parse each sentence in training data\n",
    "def train(sem, sentences, groupingProcedure):\n",
    "    event_list = []\n",
    "    for sentence in sentences:\n",
    "        try:\n",
    "           new_event_dict = s.sentenceToEventDict(sem, sentence)\n",
    "           event_list = groupingProcedure(event_list, new_event_dict)\n",
    "        except Exception as e:\n",
    "            # The parser did not return any parse trees.\n",
    "            raise\n",
    "    return event_list\n",
    "\n",
    "def keepSeparate(event_list, new_event_dict):\n",
    "    return event_list + [new_event_dict]\n",
    "\n",
    "event_groupings = train(sem, training_sentences, keepSeparate)\n",
    "for g in event_groupings:\n",
    "    print g"
   ]
  },
  {
   "cell_type": "markdown",
   "metadata": {},
   "source": [
    "### One Difference Groupings\n",
    "This is a very conservative form of grouping. If two training sentences the same event structure but differ across one feature, we group together the values of that feature."
   ]
  },
  {
   "cell_type": "code",
   "execution_count": 5,
   "metadata": {},
   "outputs": [
    {
     "name": "stdout",
     "output_type": "stream",
     "text": [
      "{'action': 'eat', 'patient': 'potato', 'tense': 'present', 'agent': 'John'}\n",
      "{'action': 'eat', 'patient': 'tomato', 'tense': 'present', 'agent': 'John'}\n",
      "{'action': 'eat', 'patient': 'tomato', 'tense': 'present', 'agent': 'Mary'}\n",
      "{'action': set(['eat']), 'tense': set(['present']), 'patient': set(['tomato', 'potato']), 'agent': set(['John', 'Mary'])}\n"
     ]
    }
   ],
   "source": [
    "def groupIfOneDiff(event_list, new_event): #if different structure, do not match\n",
    "    #maybe only do after reaching a certain size\n",
    "    new_event_list = copy.deepcopy(event_list)\n",
    "    merged = False\n",
    "    #try merging in\n",
    "    for i in range(len(event_list)): #try to match with event_list[i]\n",
    "        event = event_list[i]\n",
    "        if set(event.keys()) == set(new_event.keys()):\n",
    "            unequal_count = 0\n",
    "            for feat in event.keys():\n",
    "                if new_event[feat] not in event[feat]:\n",
    "                    unequal_feat = feat\n",
    "                    unequal_count += 1\n",
    "            if unequal_count == 0: merged = True\n",
    "            elif unequal_count == 1: #merge into previous\n",
    "                new_event_list[i][unequal_feat].add(new_event[unequal_feat])\n",
    "                merged = True\n",
    "    #make new spot\n",
    "    if not merged:\n",
    "        new_event_list.append({k:set([v]) for k,v in new_event.iteritems()})\n",
    "    return new_event_list\n",
    "\n",
    "event_groupings = train(sem, training_sentences, groupIfOneDiff)\n",
    "for e in events:\n",
    "    print e\n",
    "for g in event_groupings:\n",
    "    print g"
   ]
  },
  {
   "cell_type": "markdown",
   "metadata": {},
   "source": [
    "Note that the above only produces one output grouping (as opposed to two groupings, composed of sentences (1,2) and (2,3)).\n",
    "This is because we are applying the groupings iteratively. We loop through the events, and compare the current event with the groupings that we have collected up to that point. The comparison in this case is not checking for equality between values of a common feature, but rather it is checking for inclusion of the current event's feature values within groupings of that feature.\n",
    "```python\n",
    "for feat in event.keys():\n",
    "    if new_event[feat] not in event[feat]:\n",
    "        unequal_feat = feat\n",
    "```\n",
    "This part of the previous method demonstrates this inclusion checking.\n",
    "\n",
    "This implies that the same training sentences, in different orders, can lead to different event groupings."
   ]
  },
  {
   "cell_type": "code",
   "execution_count": 6,
   "metadata": {},
   "outputs": [
    {
     "name": "stdout",
     "output_type": "stream",
     "text": [
      "['John eats the potato', 'John eats the tomato', 'Mary eats the tomato']\n",
      "['Mary eats the tomato', 'John eats the tomato', 'John eats the potato']\n",
      "[{'action': set(['eat']), 'tense': set(['present']), 'patient': set(['tomato', 'potato']), 'agent': set(['John', 'Mary'])}]\n",
      "[{'action': set(['eat']), 'tense': set(['present']), 'patient': set(['tomato']), 'agent': set(['John', 'Mary'])}, {'action': set(['eat']), 'patient': set(['tomato', 'potato']), 'tense': set(['present']), 'agent': set(['John'])}]\n"
     ]
    }
   ],
   "source": [
    "def rotate(lst): \n",
    "    return [lst[-1]] + lst[:-1]\n",
    "print training_sentences\n",
    "print training_sentences[::-1]\n",
    "event_groupings_1 = train(sem, training_sentences, groupIfOneDiff)\n",
    "event_groupings_2 = train(sem, rotate(training_sentences), groupIfOneDiff)\n",
    "\n",
    "print event_groupings_1 #creates 1 group\n",
    "print event_groupings_2 #creates 2 groups"
   ]
  },
  {
   "cell_type": "markdown",
   "metadata": {},
   "source": [
    "This grouping pattern is related to near-miss learning:\n",
    "\n",
    "The reason that event_groupings_2 creates 2 instead of 1 grouping is that the 1st and 2nd sentence differ from each other is 2 ways, instead of just 1.\n",
    "    \n",
    "But maybe this is a bit too conservative of an assumption. Alternately we could try grouping when seeing two differences."
   ]
  },
  {
   "cell_type": "code",
   "execution_count": 7,
   "metadata": {},
   "outputs": [
    {
     "name": "stdout",
     "output_type": "stream",
     "text": [
      "{'action': 'eat', 'patient': 'tomato', 'tense': 'present', 'agent': 'Mary'}\n",
      "{'action': 'eat', 'patient': 'potato', 'tense': 'present', 'agent': 'John'}\n",
      "{'action': 'eat', 'patient': 'tomato', 'tense': 'present', 'agent': 'John'}\n",
      "[{'action': set(['eat']), 'tense': set(['present']), 'patient': set(['tomato', 'potato']), 'agent': set(['John', 'Mary'])}]\n"
     ]
    }
   ],
   "source": [
    "def groupIfOneOrTwoDiffs(event_list, new_event): #if different structure, do not match\n",
    "    #maybe only do after reaching a certain size\n",
    "    new_event_list = copy.deepcopy(event_list)\n",
    "    merged = False\n",
    "    #try merging in\n",
    "    for i in range(len(event_list)): #try to match with event_list[i]\n",
    "        event = event_list[i]\n",
    "        if set(event.keys()) == set(new_event.keys()):\n",
    "            unequal_count = 0\n",
    "            for feat in event.keys():\n",
    "                if new_event[feat] not in event[feat]:\n",
    "                    if unequal_count == 0:\n",
    "                        unequal_feat_1 = feat\n",
    "                    if unequal_count == 1:\n",
    "                        unequal_feat_2 = feat\n",
    "                    unequal_count += 1\n",
    "            if unequal_count == 0: merged = True\n",
    "            elif unequal_count == 1: #merge into previous\n",
    "                new_event_list[i][unequal_feat_1].add(new_event[unequal_feat_1])\n",
    "                merged = True\n",
    "            elif unequal_count == 2: #merge into previous\n",
    "                new_event_list[i][unequal_feat_1].add(new_event[unequal_feat_1])\n",
    "                new_event_list[i][unequal_feat_2].add(new_event[unequal_feat_2])\n",
    "                merged = True\n",
    "    #make new spot\n",
    "    if not merged:\n",
    "        new_event_list.append({k:set([v]) for k,v in new_event.iteritems()})\n",
    "    return new_event_list\n",
    "\n",
    "events = map(lambda sent: s.sentenceToEventDict(sem, sent), rotate(training_sentences))\n",
    "for e in events:\n",
    "    print e\n",
    "event_groupings = train(sem, rotate(training_sentences), groupIfOneOrTwoDiffs)\n",
    "print event_groupings"
   ]
  },
  {
   "cell_type": "markdown",
   "metadata": {},
   "source": [
    "### Filling In the Word Blank\n",
    "Now that we have come up with some event grouping strategies, we return to the original goal of our project -- to fill in the missing word.\n",
    "\n",
    "The reason for the groupings above, is that we would like to take training event structures like:\n",
    "```python\n",
    "['John eats the potato', 'John eats the tomato', 'Mary eats the tomato']\n",
    "```\n",
    "And conclude that:\n",
    "```python\n",
    "['Mary eats the potato']\n",
    "```\n",
    "is a valid sentence."
   ]
  },
  {
   "cell_type": "code",
   "execution_count": 8,
   "metadata": {},
   "outputs": [
    {
     "name": "stdout",
     "output_type": "stream",
     "text": [
      "{'action': 'eat', 'patient': 'potato', 'tense': 'past', 'agent': 'Mary'}\n",
      "[{'action': set(['eat']), 'tense': set(['present']), 'patient': set(['tomato', 'potato']), 'agent': set(['John', 'Mary'])}]\n",
      "False\n"
     ]
    }
   ],
   "source": [
    "def checkGoodSentence(sem, sentence, event_groupings):\n",
    "    event = s.sentenceToEventDict(sem, sentence)\n",
    "    if not event: return False\n",
    "    for event_group in event_groupings:\n",
    "        if set(event.keys()) == set(event_group.keys()):\n",
    "            if all([event[k] in event_group[k] for k in event.keys()]):\n",
    "                return True\n",
    "    return False\n",
    "\n",
    "sentence = 'Mary ate the potato'\n",
    "event_groupings = train(sem, training_sentences, groupIfOneDiff)\n",
    "event = s.sentenceToEventDict(sem, sentence)\n",
    "print event\n",
    "print event_groupings\n",
    "\n",
    "print checkGoodSentence(sem, sentence, event_groupings)"
   ]
  },
  {
   "cell_type": "markdown",
   "metadata": {},
   "source": [
    "What the above means is that the grouping structure that we have generated 'accepts' the sentence 'Mary ate the potato' after being trained on the 3 sentences above, which is exactly what we were looking for!\n",
    "\n",
    "However, we want to be able to hypothesize that 'potato' is a good word to fill in for 'Mary ate the \\_'. So instead of starting with 'Mary ate the potato', let's start with 'Mary ate the \\_', and check the semantic validity of every word in the lexicon."
   ]
  },
  {
   "cell_type": "code",
   "execution_count": 9,
   "metadata": {},
   "outputs": [
    {
     "name": "stdout",
     "output_type": "stream",
     "text": [
      "[]\n"
     ]
    }
   ],
   "source": [
    "def gapSentenceToFillerWordGuesses(sem, gap_sentence, event_groupings):\n",
    "    good_hypotheses = []\n",
    "    guess_words = s.getTerminals(sem) #all words in the lexicon\n",
    "    filler_i = gap_sentence.index('_')\n",
    "        \n",
    "    try:\n",
    "        for guess_word in guess_words:\n",
    "            guess_sentence = gap_sentence.replace('_',guess_word)\n",
    "            if checkGoodSentence(sem, guess_sentence, event_groupings):\n",
    "                good_hypotheses.append(guess_word)\n",
    "    except: pass\n",
    "    return good_hypotheses\n",
    "\n",
    "filler_word_guesses = gapSentenceToFillerWordGuesses(sem, 'Mary ate the _', event_groupings)\n",
    "print filler_word_guesses"
   ]
  },
  {
   "cell_type": "markdown",
   "metadata": {},
   "source": [
    "This is doing what we want, but ideally we would like to extend our groupings to more than just the lexicon that we have written down.\n",
    "\n",
    "This is where we can use wordnet to generalize our results."
   ]
  },
  {
   "cell_type": "code",
   "execution_count": 10,
   "metadata": {},
   "outputs": [],
   "source": [
    "from nltk.corpus import wordnet as wn\n",
    "\n",
    "def flatten(lst):\n",
    "    out = []\n",
    "    for x in lst:\n",
    "        if type(x) is list:\n",
    "            out.extend(flatten(x))\n",
    "        else:\n",
    "            out.append(x)\n",
    "    return out\n",
    "\n",
    "gap_sentence = 'Mary ate the _'\n",
    "what_mary_ate = gapSentenceToFillerWordGuesses(sem, gap_sentence, event_groupings)\n",
    "synonyms = flatten(map(lambda w: map(lambda x: x.lemma_names(), wn.synsets(w)), what_mary_ate))\n",
    "\n",
    "sents = ['Mary ate the '+syn for syn in synonyms]\n",
    "for x in sents: print x"
   ]
  },
  {
   "cell_type": "markdown",
   "metadata": {},
   "source": [
    "We immediately see a problem with this method. In trying to generalize our semantic results, we lose even basic syntactic correctness.\n",
    "If I change the training sentences to present tense, I end up with noun synonyms.\n",
    "\n",
    "Note that here I am filtering by noun synonym class for clarity.\n",
    "\n",
    "Eg 'Mary _ the tomato' --> 'Mary chow the tomato'"
   ]
  },
  {
   "cell_type": "code",
   "execution_count": 11,
   "metadata": {},
   "outputs": [
    {
     "name": "stdout",
     "output_type": "stream",
     "text": [
      "Noun synonym: Mary chow the tomato\n",
      "Noun synonym: Mary chuck the tomato\n",
      "Noun synonym: Mary eats the tomato\n",
      "Noun synonym: Mary grub the tomato\n",
      "Verb synonym: Mary eat the tomato\n",
      "Verb synonym: Mary eat the tomato\n",
      "Verb synonym: Mary feed the tomato\n",
      "Verb synonym: Mary eat the tomato\n",
      "Verb synonym: Mary eat the tomato\n",
      "Verb synonym: Mary eat_on the tomato\n",
      "Verb synonym: Mary consume the tomato\n",
      "Verb synonym: Mary eat_up the tomato\n",
      "Verb synonym: Mary use_up the tomato\n",
      "Verb synonym: Mary eat the tomato\n",
      "Verb synonym: Mary deplete the tomato\n",
      "Verb synonym: Mary exhaust the tomato\n",
      "Verb synonym: Mary run_through the tomato\n",
      "Verb synonym: Mary wipe_out the tomato\n",
      "Verb synonym: Mary corrode the tomato\n",
      "Verb synonym: Mary eat the tomato\n",
      "Verb synonym: Mary rust the tomato\n",
      "Noun synonym: Mary chow the tomato\n",
      "Noun synonym: Mary chuck the tomato\n",
      "Noun synonym: Mary eats the tomato\n",
      "Noun synonym: Mary grub the tomato\n",
      "Verb synonym: Mary eat the tomato\n",
      "Verb synonym: Mary eat the tomato\n",
      "Verb synonym: Mary feed the tomato\n",
      "Verb synonym: Mary eat the tomato\n",
      "Verb synonym: Mary eat the tomato\n",
      "Verb synonym: Mary eat_on the tomato\n",
      "Verb synonym: Mary consume the tomato\n",
      "Verb synonym: Mary eat_up the tomato\n",
      "Verb synonym: Mary use_up the tomato\n",
      "Verb synonym: Mary eat the tomato\n",
      "Verb synonym: Mary deplete the tomato\n",
      "Verb synonym: Mary exhaust the tomato\n",
      "Verb synonym: Mary run_through the tomato\n",
      "Verb synonym: Mary wipe_out the tomato\n",
      "Verb synonym: Mary corrode the tomato\n",
      "Verb synonym: Mary eat the tomato\n",
      "Verb synonym: Mary rust the tomato\n"
     ]
    }
   ],
   "source": [
    "gap_sentence = 'Mary _ the tomato'\n",
    "what_mary_did = gapSentenceToFillerWordGuesses(sem, gap_sentence, event_groupings)\n",
    "synonyms = flatten(map(lambda w: map(lambda x: x.lemma_names(), wn.synsets(w)), what_mary_did))\n",
    "noun_synonyms = flatten(map(lambda w: map(lambda x: x.lemma_names(), wn.synsets(w, wn.NOUN)), what_mary_did))\n",
    "\n",
    "for syn in synonyms:\n",
    "    sentence = 'Mary '+syn+' the tomato'\n",
    "    if syn in noun_synonyms:\n",
    "        print \"Noun synonym: \"+sentence\n",
    "    else:\n",
    "        print \"Verb synonym: \"+sentence"
   ]
  },
  {
   "cell_type": "markdown",
   "metadata": {},
   "source": [
    "However, in this case, I can just as easily filter by verb, fixing the part of speech, but not the tense or the plurality."
   ]
  },
  {
   "cell_type": "code",
   "execution_count": 12,
   "metadata": {},
   "outputs": [
    {
     "name": "stdout",
     "output_type": "stream",
     "text": [
      "Mary eat the tomato\n",
      "Mary eat the tomato\n",
      "Mary feed the tomato\n",
      "Mary eat the tomato\n",
      "Mary eat the tomato\n",
      "Mary eat_on the tomato\n",
      "Mary consume the tomato\n",
      "Mary eat_up the tomato\n",
      "Mary use_up the tomato\n",
      "Mary eat the tomato\n",
      "Mary deplete the tomato\n",
      "Mary exhaust the tomato\n",
      "Mary run_through the tomato\n",
      "Mary wipe_out the tomato\n",
      "Mary corrode the tomato\n",
      "Mary eat the tomato\n",
      "Mary rust the tomato\n",
      "Mary eat the tomato\n",
      "Mary eat the tomato\n",
      "Mary feed the tomato\n",
      "Mary eat the tomato\n",
      "Mary eat the tomato\n",
      "Mary eat_on the tomato\n",
      "Mary consume the tomato\n",
      "Mary eat_up the tomato\n",
      "Mary use_up the tomato\n",
      "Mary eat the tomato\n",
      "Mary deplete the tomato\n",
      "Mary exhaust the tomato\n",
      "Mary run_through the tomato\n",
      "Mary wipe_out the tomato\n",
      "Mary corrode the tomato\n",
      "Mary eat the tomato\n",
      "Mary rust the tomato\n"
     ]
    }
   ],
   "source": [
    "synonyms = flatten(map(lambda w: map(lambda x: x.lemma_names(), wn.synsets(w, wn.VERB)), what_mary_did))\n",
    "\n",
    "sents = ['Mary '+syn+' the tomato' for syn in synonyms]\n",
    "for x in sents: print x"
   ]
  },
  {
   "cell_type": "markdown",
   "metadata": {},
   "source": [
    "One potential attempt at a fix would be to use an off-the-shelf parser to check the syntactic validity of each proposed sentence.\n",
    "\n",
    "Below, we try this with the Penn Tree Bank grammar."
   ]
  },
  {
   "cell_type": "code",
   "execution_count": 13,
   "metadata": {},
   "outputs": [
    {
     "name": "stdout",
     "output_type": "stream",
     "text": [
      "[Tree('S', [Tree('NP-SBJ-8', [Tree('NNP', ['Mary'])]), Tree('VP', [Tree('VBP', ['has']), Tree('NP-TMP-CLR', [Tree('NN', ['food'])])])]), Tree('S', [Tree('NP-SBJ-8', [Tree('NNP', ['Mary'])]), Tree('VP', [Tree('VP', [Tree('VBP', ['has']), Tree('NP-TMP-CLR', [Tree('NN', ['food'])])])])]), Tree('S', [Tree('NP-SBJ-8', [Tree('NNP', ['Mary'])]), Tree('VP', [Tree('VP', [Tree('VBZ', ['has']), Tree('NP-PRD', [Tree('NN', ['food'])])])])]), Tree('S', [Tree('NP-SBJ-8', [Tree('NNP', ['Mary'])]), Tree('VP', [Tree('VP', [Tree('VBZ', ['has']), Tree('NP-PRD', [Tree('NP', [Tree('NN', ['food'])])])])])]), Tree('S', [Tree('NP-SBJ-8', [Tree('NNP', ['Mary'])]), Tree('VP', [Tree('VP', [Tree('VBZ', ['has']), Tree('NP-PRD', [Tree('NP', [Tree('NP', [Tree('NN', ['food'])])])])])])]), Tree('S', [Tree('NP-SBJ-8', [Tree('NNP', ['Mary'])]), Tree('VP', [Tree('VP', [Tree('VBP', ['has']), Tree('NP-PRD', [Tree('NN', ['food'])])])])]), Tree('S', [Tree('NP-SBJ-8', [Tree('NNP', ['Mary'])]), Tree('VP', [Tree('VP', [Tree('VBP', ['has']), Tree('NP-PRD', [Tree('NP', [Tree('NN', ['food'])])])])])]), Tree('S', [Tree('NP-SBJ-8', [Tree('NNP', ['Mary'])]), Tree('VP', [Tree('VP', [Tree('VBP', ['has']), Tree('NP-PRD', [Tree('NP', [Tree('NP', [Tree('NN', ['food'])])])])])])]), Tree('S', [Tree('NP-SBJ-8', [Tree('NNP', ['Mary'])]), Tree('VP', [Tree('VP', [Tree('VBZ', ['has']), Tree('NP-CLR', [Tree('NN', ['food'])])])])]), Tree('S', [Tree('NP-SBJ-8', [Tree('NNP', ['Mary'])]), Tree('VP', [Tree('VP', [Tree('VBP', ['has']), Tree('NP-CLR', [Tree('NN', ['food'])])])])])]\n"
     ]
    }
   ],
   "source": [
    "import nltk\n",
    "#nltk.download('treebank')\n",
    "from nltk.corpus import treebank\n",
    "from nltk.grammar import CFG, Nonterminal\n",
    "\n",
    "tbank_productions = set(production for sent in treebank.parsed_sents()\n",
    "                        for production in sent.productions())\n",
    "tbank_grammar = CFG(Nonterminal('S'), list(tbank_productions))\n",
    "parser = nltk.parse.EarleyChartParser(tbank_grammar)\n",
    "print list(parser.parse('Mary has food'.split()))[:10]"
   ]
  },
  {
   "cell_type": "markdown",
   "metadata": {},
   "source": [
    "Well, it looks like the above is effectively useless for our purposes.\n",
    "It will only have the words in the small subset of PTB that we can download, and takes very long to parse even 'Mary has food'. \n",
    "\n",
    "Let's try CMU's link grammar."
   ]
  },
  {
   "cell_type": "code",
   "execution_count": 14,
   "metadata": {
    "scrolled": true
   },
   "outputs": [
    {
     "name": "stdout",
     "output_type": "stream",
     "text": [
      "gcc -c -g -O -w -Iinclude src/parse.c -o obj/parse.o\n",
      "gcc -c -g -O -w -Iinclude src/prune.c -o obj/prune.o\n",
      "gcc -c -g -O -w -Iinclude src/and.c -o obj/and.o\n",
      "gcc -c -g -O -w -Iinclude src/post-process.c -o obj/post-process.o\n",
      "gcc -c -g -O -w -Iinclude src/pp_lexer.c -o obj/pp_lexer.o\n",
      "gcc -c -g -O -w -Iinclude src/resources.c -o obj/resources.o\n",
      "gcc -c -g -O -w -Iinclude src/analyze-linkage.c -o obj/analyze-linkage.o\n",
      "gcc -c -g -O -w -Iinclude src/string-set.c -o obj/string-set.o\n",
      "gcc -c -g -O -w -Iinclude src/pp_linkset.c -o obj/pp_linkset.o\n",
      "gcc -c -g -O -w -Iinclude src/pp_knowledge.c -o obj/pp_knowledge.o\n",
      "gcc -c -g -O -w -Iinclude src/error.c -o obj/error.o\n",
      "gcc -c -g -O -w -Iinclude src/word-file.c -o obj/word-file.o\n",
      "gcc -c -g -O -w -Iinclude src/utilities.c -o obj/utilities.o\n",
      "gcc -c -g -O -w -Iinclude src/tokenize.c -o obj/tokenize.o\n",
      "gcc -c -g -O -w -Iinclude src/command-line.c -o obj/command-line.o\n",
      "gcc -c -g -O -w -Iinclude src/read-dict.c -o obj/read-dict.o\n",
      "gcc -c -g -O -w -Iinclude src/print.c -o obj/print.o\n",
      "gcc -c -g -O -w -Iinclude src/preparation.c -o obj/preparation.o\n",
      "gcc -c -g -O -w -Iinclude src/api.c -o obj/api.o\n",
      "gcc -c -g -O -w -Iinclude src/massage.c -o obj/massage.o\n",
      "gcc -c -g -O -w -Iinclude src/linkset.c -o obj/linkset.o\n",
      "gcc -c -g -O -w -Iinclude src/idiom.c -o obj/idiom.o\n",
      "gcc -c -g -O -w -Iinclude src/fast-match.c -o obj/fast-match.o\n",
      "gcc -c -g -O -w -Iinclude src/extract-links.c -o obj/extract-links.o\n",
      "gcc -c -g -O -w -Iinclude src/count.c -o obj/count.o\n",
      "gcc -c -g -O -w -Iinclude src/build-disjuncts.c -o obj/build-disjuncts.o\n",
      "gcc -c -g -O -w -Iinclude src/constituents.c -o obj/constituents.o\n",
      "gcc -c -g -O -w -Iinclude src/print-util.c -o obj/print-util.o\n",
      "gcc -O -g  obj/parse.o obj/prune.o obj/and.o obj/post-process.o obj/pp_lexer.o obj/resources.o obj/analyze-linkage.o obj/string-set.o obj/pp_linkset.o obj/pp_knowledge.o obj/error.o obj/word-file.o obj/utilities.o obj/tokenize.o obj/command-line.o obj/read-dict.o obj/print.o obj/preparation.o obj/api.o obj/massage.o obj/linkset.o obj/idiom.o obj/fast-match.o obj/extract-links.o obj/count.o obj/build-disjuncts.o obj/constituents.o obj/print-util.o  -o ./parse \n"
     ]
    }
   ],
   "source": [
    "%%bash\n",
    "cd ./link-4.1b-mod/ && make -B"
   ]
  },
  {
   "cell_type": "code",
   "execution_count": 15,
   "metadata": {
    "scrolled": true
   },
   "outputs": [
    {
     "name": "stdout",
     "output_type": "stream",
     "text": [
      "['Mary eats the tomato', 'Mary eats the tomato']\n"
     ]
    }
   ],
   "source": [
    "def filterBySyntax(sentences):\n",
    "    with open(\"./link-4.1b-mod/input.txt\", \"w+\") as f:\n",
    "        for sentence in sentences:\n",
    "            f.write(sentence+'\\n')\n",
    "\n",
    "    wd = os.getcwd()\n",
    "    os.chdir(wd+\"/link-4.1b-mod\")\n",
    "    subprocess.call(['./parse'])\n",
    "    os.chdir(wd)\n",
    "\n",
    "    with open(\"./link-4.1b-mod/output.txt\", \"r\") as f:\n",
    "        syntactical_sentences = [x for x in f.read().split('\\n') if x != '']\n",
    "    return syntactical_sentences\n",
    "\n",
    "synonyms = flatten(map(lambda w: map(lambda x: x.lemma_names(), wn.synsets(w)), what_mary_did))\n",
    "sentences = ['Mary '+syn+' the tomato' for syn in synonyms]\n",
    "syntactical_sentences = filterBySyntax(sentences)\n",
    "print syntactical_sentences"
   ]
  },
  {
   "cell_type": "markdown",
   "metadata": {},
   "source": [
    "This seems to be working better as a syntax filter, but we are again at a cross-roads. No sentence from our generalizations was grammatical!\n",
    "\n",
    "So we will have to be a bit more careful in how we handle this.\n",
    "\n",
    "For this particular case, we can use the NodeBox English Linguistics library to force conjugation of the proposed verbs."
   ]
  },
  {
   "cell_type": "code",
   "execution_count": 16,
   "metadata": {},
   "outputs": [
    {
     "name": "stdout",
     "output_type": "stream",
     "text": [
      "[u'chow', u'chuck', u'eats', u'grub', u'eat']\n",
      "['', 'chucks', 'eats', 'grubs', 'eats']\n"
     ]
    }
   ],
   "source": [
    "conjs = []\n",
    "for syn in synonyms:\n",
    "    try:\n",
    "        conj = en.verb.present(syn, person=3, negate=False)\n",
    "        conjs.append(conj)\n",
    "    except Exception as e:\n",
    "        conjs.append('')\n",
    "\n",
    "print synonyms[0:5]\n",
    "print conjs[0:5]"
   ]
  },
  {
   "cell_type": "code",
   "execution_count": 17,
   "metadata": {},
   "outputs": [
    {
     "name": "stdout",
     "output_type": "stream",
     "text": [
      "sentences with conjugated verb: \n",
      "['Mary chucks the tomato', 'Mary eats the tomato', 'Mary grubs the tomato', 'Mary eats the tomato', 'Mary eats the tomato', 'Mary fees the tomato', 'Mary eats the tomato', 'Mary eats the tomato', 'Mary consumes the tomato', 'Mary eats the tomato', 'Mary depletes the tomato', 'Mary exhausts the tomato', 'Mary corrodes the tomato', 'Mary eats the tomato', 'Mary rusts the tomato', 'Mary chucks the tomato', 'Mary eats the tomato', 'Mary grubs the tomato', 'Mary eats the tomato', 'Mary eats the tomato', 'Mary fees the tomato', 'Mary eats the tomato', 'Mary eats the tomato', 'Mary consumes the tomato', 'Mary eats the tomato', 'Mary depletes the tomato', 'Mary exhausts the tomato', 'Mary corrodes the tomato', 'Mary eats the tomato', 'Mary rusts the tomato']\n",
      "\n",
      "after filter: \n",
      "['Mary chucks the tomato', 'Mary eats the tomato', 'Mary eats the tomato', 'Mary eats the tomato', 'Mary eats the tomato', 'Mary eats the tomato', 'Mary consumes the tomato', 'Mary eats the tomato', 'Mary depletes the tomato', 'Mary exhausts the tomato', 'Mary corrodes the tomato', 'Mary eats the tomato', 'Mary chucks the tomato', 'Mary eats the tomato', 'Mary eats the tomato', 'Mary eats the tomato', 'Mary eats the tomato', 'Mary eats the tomato', 'Mary consumes the tomato', 'Mary eats the tomato', 'Mary depletes the tomato', 'Mary exhausts the tomato', 'Mary corrodes the tomato', 'Mary eats the tomato']\n",
      "\n",
      "removed: \n",
      "['Mary grubs the tomato', 'Mary fees the tomato', 'Mary rusts the tomato', 'Mary grubs the tomato', 'Mary fees the tomato', 'Mary rusts the tomato']\n"
     ]
    }
   ],
   "source": [
    "conj_sents = ['Mary '+conj+' the tomato' for conj in conjs if conj]\n",
    "\n",
    "print \"sentences with conjugated verb: \"\n",
    "print conj_sents\n",
    "print \"\"\n",
    "\n",
    "filtered = filterBySyntax(conj_sents)\n",
    "print \"after filter: \" \n",
    "print filtered\n",
    "\n",
    "print \"\"\n",
    "print \"removed: \"\n",
    "print [x for x in conj_sents if x not in filtered]"
   ]
  },
  {
   "cell_type": "markdown",
   "metadata": {},
   "source": [
    "This finally allows us to come up with generalized alternatives for 'Mary _  the tomato'!\n",
    "The problem with the above method; however, is that we had to manually specify that the blank was supposed to be 3rd-person verb.\n",
    "\n",
    "We need to get away from this if we would like to generalize to English in general. Ideally, we could look at the event structures that we generate from our original grouping procedure, and use that information to automate the conjugation/modification of our generated sentences."
   ]
  },
  {
   "cell_type": "code",
   "execution_count": 18,
   "metadata": {},
   "outputs": [
    {
     "name": "stdout",
     "output_type": "stream",
     "text": [
      "{'action': 'eat', 'patient': 'tomato', 'tense': 'present', 'agent': 'Mary'}\n"
     ]
    }
   ],
   "source": [
    "#start_sentence = 'Mary _ the tomato'\n",
    "#filler_word_guesses = test(sem, [start_sentence], event_groupings)\n",
    "#print filler_word_guesses\n",
    "#what_mary_did = filler_word_guesses['Mary _ the tomato']\n",
    "what_mary_did_sentences = ['Mary '+verb+\" the tomato\" for verb in what_mary_did]\n",
    "generated_event_structures = [s.sentenceToEventDict(sem, sentence) for sentence in what_mary_did_sentences]\n",
    "print generated_event_structures[0]"
   ]
  },
  {
   "cell_type": "code",
   "execution_count": 19,
   "metadata": {},
   "outputs": [
    {
     "data": {
      "image/png": "[encoded data removed]",
      "text/plain": [
       "Tree(Start[], [Tree(S[], [Tree(NP[-pro, -wh], [Tree(Name[], ['Mary'])]), Tree(VP[], [Tree(V_args[], [Tree(V2[+tense], ['eats']), Tree(NP[-pro, -wh], [Tree(Det[], ['the']), Tree(APX[], []), Tree(N[-mass, number='singular'], ['tomato'])])])])])])"
      ]
     },
     "execution_count": 19,
     "metadata": {},
     "output_type": "execute_result"
    }
   ],
   "source": [
    "s.parse_input_str(sem, what_mary_did_sentences[0])"
   ]
  },
  {
   "cell_type": "code",
   "execution_count": 20,
   "metadata": {},
   "outputs": [
    {
     "name": "stdout",
     "output_type": "stream",
     "text": [
      "(Start[]\n",
      "  (S[]\n",
      "    (NP[-pro, -wh] (Name[] Mary))\n",
      "    (VP[]\n",
      "      (V_args[]\n",
      "        (V2[+tense] eats)\n",
      "        (NP[-pro, -wh]\n",
      "          (Det[] the)\n",
      "          (APX[] )\n",
      "          (N[-mass, number='singular'] tomato))))))\n"
     ]
    }
   ],
   "source": [
    "tree = s.parse_input_str(sem, what_mary_did_sentences[0])\n",
    "print tree"
   ]
  },
  {
   "cell_type": "code",
   "execution_count": 21,
   "metadata": {},
   "outputs": [
    {
     "name": "stdout",
     "output_type": "stream",
     "text": [
      "('eats', V2[+tense])\n",
      "\n",
      "[ *type* = 'V2' ]\n",
      "[ tense  = True ]\n"
     ]
    }
   ],
   "source": [
    "subtree = tree.pos()[1] # 2nd element of sentence was blank\n",
    "print subtree\n",
    "\n",
    "print \"\"\n",
    "features = subtree[1]\n",
    "print features\n",
    "#print tree.leaf_treeposition(1)\n",
    "#print tree[0][1][0][0]"
   ]
  },
  {
   "cell_type": "code",
   "execution_count": 22,
   "metadata": {},
   "outputs": [
    {
     "name": "stdout",
     "output_type": "stream",
     "text": [
      "[u'chow', u'chuck', u'eats', u'grub', u'eat', u'eat', u'feed', u'eat', u'eat', u'eat_on', u'consume', u'eat_up', u'use_up', u'eat', u'deplete', u'exhaust', u'run_through', u'wipe_out', u'corrode', u'eat', u'rust', u'chow', u'chuck', u'eats', u'grub', u'eat', u'eat', u'feed', u'eat', u'eat', u'eat_on', u'consume', u'eat_up', u'use_up', u'eat', u'deplete', u'exhaust', u'run_through', u'wipe_out', u'corrode', u'eat', u'rust'] \n",
      "\n",
      "[ *type* = 'V2' ]\n",
      "[ tense  = True ] \n",
      "\n",
      "[ *type* = 'V2' ]\n",
      "[ tense  = True ] \n",
      "\n"
     ]
    }
   ],
   "source": [
    "test_sentence = 'Mary _ the tomato'\n",
    "filler_index = test_sentence.split().index('_')\n",
    "print synonyms, '\\n'\n",
    "\n",
    "for sentence in what_mary_did_sentences:\n",
    "    tree = s.parse_input_str(sem, sentence)\n",
    "    features = tree.pos()[filler_index][1]\n",
    "    print features, '\\n'\n"
   ]
  },
  {
   "cell_type": "markdown",
   "metadata": {},
   "source": [
    "Now that we have the features, we can use these to inform the filtering of our synonyms!"
   ]
  },
  {
   "cell_type": "code",
   "execution_count": 23,
   "metadata": {
    "scrolled": false
   },
   "outputs": [
    {
     "name": "stdout",
     "output_type": "stream",
     "text": [
      "[]\n",
      "['white_potato', 'murphy', 'tater', 'white_potato', 'white_potato_vine', 'love_apple', 'tomato_plant']\n"
     ]
    }
   ],
   "source": [
    "def findPOS(features):\n",
    "    feat_keys = features.keys()\n",
    "    feat_type_index = filter(lambda (i,x): type(x) is nltk.featstruct.Feature, enumerate(feat_keys))[0][0]\n",
    "    feat_type = feat_keys[feat_type_index]\n",
    "    POS = features[feat_type]\n",
    "    return POS\n",
    "\n",
    "def getSynonymsSingleWord(word, POS):\n",
    "    if POS == 'N':\n",
    "        return flatten([synset.lemma_names() for synset in wn.synsets(word, wn.NOUN)])\n",
    "    elif POS[0] == 'V':\n",
    "        return flatten([synset.lemma_names() for synset in wn.synsets(word, wn.VERB)])\n",
    "    return flatten([synset.lemma_names() for synset in wn.synsets(word, wn.NOUN)]) #future work\n",
    "        \n",
    "    \n",
    "def getSynonyms(filler_words, POS):\n",
    "    return flatten(map(lambda word: getSynonymsSingleWord(word, POS), filler_words))\n",
    "\n",
    "def conjugate(word, POS_info):\n",
    "    features, subj_features = POS_info['features'], POS_info['subj_features']\n",
    "    POS, subj_POS = POS_info['POS'], POS_info['subj_POS']\n",
    "    conj = None\n",
    "    if POS[0] == 'V': #Verb\n",
    "        if features['tense']:\n",
    "            if subj_POS == 'N' and subj_features['number'] == 'plural':\n",
    "                conj = en.verb.conjugate(word, tense=\"present plural\")\n",
    "            elif subj_POS == 'N' or subj_POS == 'Name':\n",
    "                conj = en.verb.conjugate(word, tense=\"3rd singular present\")\n",
    "        else:\n",
    "            conj = en.verb.infinitive(word)\n",
    "    elif POS == 'N':\n",
    "        if features['number'] == 'singular':\n",
    "            conj = en.noun.singular(word)\n",
    "        elif features['number'] == 'plural':\n",
    "            conj = en.noun.plural(word)\n",
    "    elif POS == 'Name':\n",
    "        conj = en.noun.singular(word)\n",
    "    if not conj:\n",
    "        conj = word\n",
    "    return conj\n",
    "\n",
    "def fillerWordToPOSInfo(filler_word, gap_sentence):\n",
    "    filler_index = gap_sentence.split().index('_')\n",
    "    filled_sentence = gap_sentence.replace('_',filler_word)\n",
    "    tree = s.parse_input_str(sem, filled_sentence)\n",
    "    features, subj_features = tree.pos()[filler_index][1], tree.pos()[0][1]\n",
    "    POS, subj_POS = findPOS(features), findPOS(subj_features)\n",
    "    POS_info = {'features':features, 'subj_features':subj_features, \n",
    "                'POS': POS, 'subj_POS':subj_POS}\n",
    "    return POS_info\n",
    "        \n",
    "#conjugate needs all info, but generalize should only need one POS\n",
    "def generalizeAndConjugate(sem, gap_sentence, filler_words, generalizationProcedure): \n",
    "    POS_info = fillerWordToPOSInfo(filler_words[0], gap_sentence)\n",
    "    \n",
    "    generalizations = generalizationProcedure(filler_words, POS_info['POS'])\n",
    "    conjugated_gens = []\n",
    "    for g in generalizations:\n",
    "        try:\n",
    "            conjugated_gens.append(conjugate(g, POS_info))\n",
    "        except Exception as e: pass\n",
    "    return filterBySyntax(conjugated_gens)\n",
    "\n",
    "gap_sentences = ['Mary _ the tomato', 'Mary eats the _']#, '_ eats the tomato']\n",
    "for gap_sentence in gap_sentences:\n",
    "    filler_word_guesses = gapSentenceToFillerWordGuesses(sem, gap_sentence, event_groupings)\n",
    "    gens = generalizeAndConjugate(sem, gap_sentence, filler_word_guesses, getSynonyms)\n",
    "    print gens"
   ]
  },
  {
   "cell_type": "code",
   "execution_count": 24,
   "metadata": {},
   "outputs": [
    {
     "name": "stdout",
     "output_type": "stream",
     "text": [
      "Mary eats the tomato\n",
      "Mary eats the tomato\n",
      "Mary eats the white_potato\n",
      "Mary eats the murphy\n",
      "Mary eats the tater\n",
      "Mary eats the white_potato\n",
      "Mary eats the white_potato_vine\n",
      "Mary eats the love_apple\n",
      "Mary eats the tomato_plant\n",
      "Mary eats the potato\n",
      "Mary eats the tomato\n",
      "Count:  11 \n",
      "\n"
     ]
    }
   ],
   "source": [
    "filled_sentences = []\n",
    "for gap_sentence in gap_sentences:\n",
    "    filler_word_guesses = gapSentenceToFillerWordGuesses(sem, gap_sentence, event_groupings)\n",
    "    gens = generalizeAndConjugate(sem, gap_sentence, filler_word_guesses, getSynonyms)\n",
    "    for g in gens:\n",
    "        filled_sentences.append(gap_sentence.replace('_',g))\n",
    "    for fill in filler_word_guesses:\n",
    "        filled_sentences.append(gap_sentence.replace('_',fill))\n",
    "\n",
    "for x in filled_sentences:\n",
    "    print x\n",
    "print \"Count: \", len(filled_sentences), '\\n'\n"
   ]
  },
  {
   "cell_type": "markdown",
   "metadata": {},
   "source": [
    "Now that we have a way of filtering down our suggested generalizations, we are more free to experiment with different generalization techniques.\n",
    "\n",
    "For example, what if we notice that the is something in common to many of the suggestions, whether they be tomato or potato?  Fundamentally, \"Mary ate the \\_\" should semantically match any food item.\n",
    "\n",
    "Following this idea, we introduce generalization by shared hypernymy."
   ]
  },
  {
   "cell_type": "code",
   "execution_count": 25,
   "metadata": {},
   "outputs": [
    {
     "data": {
      "text/plain": [
       "[]"
      ]
     },
     "execution_count": 25,
     "metadata": {},
     "output_type": "execute_result"
    }
   ],
   "source": [
    "def getSharedHypernyms(filler_words): #only use on Nouns\n",
    "    pairwise_synsets = []\n",
    "    for i in range(len(filler_words)):\n",
    "        for j in range(i+1,len(filler_words)):\n",
    "            a,b = filler_words[i], filler_words[j]\n",
    "            pairwise_synsets.append(findLowest(a, b)[0])\n",
    "    return reduce(lambda x,y: x.lowest_common_hypernyms(y)[0], pairwise_synsets).lemma_names()\n",
    "\n",
    "def getEntailments(filler_words): #only use on Verbs\n",
    "    synsets = flatten([wn.synsets(filler_word, wn.VERB) for filler_word in filler_words])\n",
    "    ents = flatten(map(lambda syn: syn.entailments(), synsets))\n",
    "    return flatten([ent.lemma_names() for ent in ents])\n",
    "\n",
    "def getSharedHypernymsOrEntailments(filler_words, POS):\n",
    "    if POS == 'N':\n",
    "        return getSharedHypernyms(filler_words)\n",
    "    elif POS[0] == 'V':\n",
    "        return getEntailments(filler_words)\n",
    "    return getSharedHypernyms(filler_words) #future work\n",
    "\n",
    "def findLowest(w1, w2): #only use on Nouns\n",
    "    a, b = wn.synsets(w1, wn.NOUN), wn.synsets(w2, wn.NOUN)\n",
    "        \n",
    "    low_depth, low_synset = -float('inf'), None\n",
    "    curr_x, curr_y = None, None\n",
    "    for x in a:\n",
    "            for y in b:\n",
    "                    syns = x.lowest_common_hypernyms(y)\n",
    "                    if syns:\n",
    "                        depth = syns[0].min_depth()\n",
    "                        if (depth and depth >= low_depth):\n",
    "                                low_depth = depth\n",
    "                                low_synset = syns\n",
    "                                curr_x, curr_y = x, y\n",
    "    return low_synset\n",
    "\n",
    "gap_sentence = 'Mary eats the _'\n",
    "filler_word_guesses = gapSentenceToFillerWordGuesses(sem, gap_sentence, event_groupings)\n",
    "generalizeAndConjugate(sem, gap_sentence, filler_word_guesses, getSharedHypernymsOrEntailments)\n",
    "\n",
    "gap_sentence = 'Mary _ the tomato'\n",
    "filler_word_guesses = gapSentenceToFillerWordGuesses(sem, gap_sentence, event_groupings)\n",
    "generalizeAndConjugate(sem, gap_sentence, filler_word_guesses, getSharedHypernymsOrEntailments)\n"
   ]
  },
  {
   "cell_type": "markdown",
   "metadata": {},
   "source": [
    "These generalizations are good, but do not cover very much ground. We are trying to create a long list of viable alternatively for a blank spot, and this method took us from two hypotheses to two hypotheses. We can ameliorate this by taking the transitive closure of hyponymy under these objects. Such a closure would be a generalization of each of our previous generalizations in this paper."
   ]
  },
  {
   "cell_type": "code",
   "execution_count": 26,
   "metadata": {},
   "outputs": [
    {
     "name": "stdout",
     "output_type": "stream",
     "text": [
      "['aquatic_plant', 'water_plant', 'hydrophyte', 'hydrophytic_plant', 'bulbous_plant', 'cormous_plant', 'cultivar', 'cultivated_plant', 'deciduous_plant', 'desert_plant']\n",
      "[]\n"
     ]
    }
   ],
   "source": [
    "def getHyponymClosure(filler_words): #Noun\n",
    "    pairwise_synsets = []\n",
    "    for i in range(len(filler_words)):\n",
    "        for j in range(i+1,len(filler_words)):\n",
    "            a,b = filler_words[i], filler_words[j]\n",
    "            pairwise_synsets.append(findLowest(a, b)[0])\n",
    "    hypernym_synset = reduce(lambda x,y: x.lowest_common_hypernyms(y)[0], pairwise_synsets)\n",
    "    closure = flatten(hypernym_synset.closure(lambda y: y.hyponyms()))\n",
    "    return flatten(map(lambda x: x.lemma_names(), closure))\n",
    "\n",
    "def getHyponymsClosureOrEntailments(filler_words, POS):\n",
    "    if POS == 'N':\n",
    "        return getHyponymClosure(filler_words)\n",
    "    elif POS[0] == 'V':\n",
    "        return getEntailments(filler_words)\n",
    "    return getHyponymClosure(filler_words) #future work\n",
    "\n",
    "gap_sentence = 'Mary eats the _'\n",
    "filler_word_guesses = gapSentenceToFillerWordGuesses(sem, gap_sentence, event_groupings)\n",
    "hyponym_closure = generalizeAndConjugate(sem, gap_sentence, filler_word_guesses, getHyponymsClosureOrEntailments)\n",
    "print hyponym_closure[:10]\n",
    "\n",
    "gap_sentence = 'Mary _ the tomato'\n",
    "filler_word_guesses = gapSentenceToFillerWordGuesses(sem, gap_sentence, event_groupings)\n",
    "hyponym_closure = generalizeAndConjugate(sem, gap_sentence, filler_word_guesses, getHyponymsClosureOrEntailments)\n",
    "print hyponym_closure[:10]"
   ]
  },
  {
   "cell_type": "markdown",
   "metadata": {},
   "source": [
    "Hyponym closure of shared hyponyms works very well for nouns. However, when we apply the same technique on verbs, we find that many times there are no hypernyms. We may choose to be selective -- using hyponym closure for nouns and entailment for verbs.\n",
    "\n",
    "We can fill the currently unused word_type argument of getHyponymClosure to  implement differening generalization behavior based on the type of word."
   ]
  },
  {
   "cell_type": "code",
   "execution_count": 32,
   "metadata": {},
   "outputs": [],
   "source": [
    "training_sentences_file = 'Input/training.txt'\n",
    "gap_sentences_file = 'Input/testing.txt'\n",
    "output_dir = 'Output/'\n",
    "\n",
    "with open(training_sentences_file, 'r') as f:\n",
    "    training_sentences = [x.strip() for x in f]\n",
    "with open(gap_sentences_file, 'r') as f:\n",
    "    gap_sentences = [x.strip() for x in f]\n",
    "\n",
    "\n",
    "sem = semantic_rule_set.SemanticRuleSet()\n",
    "sem = rules.addLexicon(sem)\n",
    "\n",
    "def fillInTheGaps(training_sentences, gap_sentences, groupingProcedure, generalizationProcedure):\n",
    "    event_groupings = train(sem, training_sentences, groupingProcedure)\n",
    "    with open(output_dir+groupingProcedure.__name__+generalizationProcedure.__name__+\".txt\", 'w+') as f:\n",
    "        for gap_sentence in gap_sentences:\n",
    "            filler_word_guesses = gapSentenceToFillerWordGuesses(sem, gap_sentence, event_groupings)\n",
    "            gens = generalizeAndConjugate(sem, gap_sentence, filler_word_guesses, generalizationProcedure)\n",
    "            for g in gens:\n",
    "                f.write(gap_sentence.replace('_', g)+'\\n')\n",
    "\n",
    "fillInTheGaps(training_sentences, gap_sentences, groupIfOneDiff, getSynonyms)\n",
    "fillInTheGaps(training_sentences, gap_sentences, groupIfOneOrTwoDiffs, getSynonyms)\n",
    "fillInTheGaps(training_sentences, gap_sentences, groupIfOneDiff, getHyponymsClosureOrEntailments)\n",
    "fillInTheGaps(training_sentences, gap_sentences, groupIfOneOrTwoDiffs, getHyponymsClosureOrEntailments)\n"
   ]
  },
  {
   "cell_type": "markdown",
   "metadata": {},
   "source": [
    "Extending the types of sentence that it supports (eg adjective) \n",
    " The POS section ad-hoc (could use fxn approximator)\n",
    "\n",
    "Looking forward:\n",
    "1. Grouping procedures that use synsets during the iterative grouping. \n",
    "2. Grouping procedures that only group according to n/log(n) rule\n",
    "3. T"
   ]
  },
  {
   "cell_type": "markdown",
   "metadata": {},
   "source": [
    "Assumptions/Limitations:\n",
    " 1. Can currently only replace nouns or verbs"
   ]
  },
  {
   "cell_type": "code",
   "execution_count": null,
   "metadata": {},
   "outputs": [],
   "source": []
  }
 ],
 "metadata": {
  "kernelspec": {
   "display_name": "Python 2",
   "language": "python",
   "name": "python2"
  },
  "language_info": {
   "codemirror_mode": {
    "name": "ipython",
    "version": 2
   },
   "file_extension": ".py",
   "mimetype": "text/x-python",
   "name": "python",
   "nbconvert_exporter": "python",
   "pygments_lexer": "ipython2",
   "version": "2.7.14"
  }
 },
 "nbformat": 4,
 "nbformat_minor": 2
}
