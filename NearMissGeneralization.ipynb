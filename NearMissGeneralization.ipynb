{
 "cells": [
  {
   "cell_type": "code",
   "execution_count": 1,
   "metadata": {},
   "outputs": [
    {
     "name": "stdout",
     "output_type": "stream",
     "text": [
      "\n",
      " Training\n",
      "> John ate the potato\n",
      "> John ate the tomato\n",
      "> Mary ate the tomato\n",
      "\n",
      " Testing\n",
      "{'Mary ate the potato': ['Mary ate the potato', 'Mary ate the tomato']}\n"
     ]
    }
   ],
   "source": [
    "from semantic import *"
   ]
  },
  {
   "cell_type": "code",
   "execution_count": null,
   "metadata": {},
   "outputs": [],
   "source": [
    "# Try the following ideas\n",
    "# Find hypernyms between each pair\n",
    "# Find the highest-level shared hypernym in the group ( i guess this should be the lowest common ancestor) \n",
    "# Closure of synsets \n",
    "# All hyponyms of both  ←- [Working on this -- William]\n",
    "# All hyponyms of synsets of both\n",
    "# All hyponyms of shared hypernyms \n"
   ]
  }
 ],
 "metadata": {
  "kernelspec": {
   "display_name": "Python 2",
   "language": "python",
   "name": "python2"
  },
  "language_info": {
   "codemirror_mode": {
    "name": "ipython",
    "version": 2
   },
   "file_extension": ".py",
   "mimetype": "text/x-python",
   "name": "python",
   "nbconvert_exporter": "python",
   "pygments_lexer": "ipython2",
   "version": "2.7.14"
  }
 },
 "nbformat": 4,
 "nbformat_minor": 2
}
