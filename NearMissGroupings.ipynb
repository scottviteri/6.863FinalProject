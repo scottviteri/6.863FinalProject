{
 "cells": [
  {
   "cell_type": "code",
   "execution_count": 1,
   "metadata": {},
   "outputs": [
    {
     "name": "stdout",
     "output_type": "stream",
     "text": [
      "\n",
      " Training\n",
      "> John ate the potato\n",
      "> John ate the tomato\n",
      "> Mary ate the tomato\n",
      "\n",
      " Testing\n",
      "{'Mary ate the potato': ['Mary ate the potato', 'Mary ate the tomato']}\n"
     ]
    }
   ],
   "source": [
    "from semantic import *"
   ]
  },
  {
   "cell_type": "code",
   "execution_count": null,
   "metadata": {},
   "outputs": [],
   "source": [
    "#different ideas to try\n",
    "#ideas about grouping\n",
    "\n",
    "#1 -- try grouping by looser requirements\n",
    "# do analysis, every step of the way\n",
    "# with example sentences\n",
    "\n",
    "#2 -- try learning what features are not required\n",
    "# a systematic way to do looser groupings"
   ]
  }
 ],
 "metadata": {
  "kernelspec": {
   "display_name": "Python 2",
   "language": "python",
   "name": "python2"
  },
  "language_info": {
   "codemirror_mode": {
    "name": "ipython",
    "version": 2
   },
   "file_extension": ".py",
   "mimetype": "text/x-python",
   "name": "python",
   "nbconvert_exporter": "python",
   "pygments_lexer": "ipython2",
   "version": "2.7.14"
  }
 },
 "nbformat": 4,
 "nbformat_minor": 2
}
