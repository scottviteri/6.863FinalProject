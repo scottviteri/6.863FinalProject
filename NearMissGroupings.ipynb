{
 "cells": [
  {
   "cell_type": "code",
   "execution_count": 1,
   "metadata": {},
   "outputs": [
    {
     "name": "stdout",
     "output_type": "stream",
     "text": [
      "\n",
      " Training\n",
      "> John ate the potato\n",
      "> John ate the tomato\n",
      "> Mary ate the tomato\n",
      "\n",
      " Testing\n",
      "{'Mary ate the potato': ['Mary ate the potato', 'Mary ate the tomato']}\n"
     ]
    }
   ],
   "source": [
    "from semantic import *"
   ]
  },
  {
   "cell_type": "code",
   "execution_count": 2,
   "metadata": {},
   "outputs": [],
   "source": [
    "#different ideas to try\n",
    "#ideas about grouping\n",
    "\n",
    "#1 -- try grouping by looser requirements\n",
    "# do analysis, every step of the way\n",
    "# with example sentences\n",
    "\n",
    "#2 -- try learning what features are not required\n",
    "# a systematic way to do looser groupings\n",
    "\n",
    "#THESE FUNCTIONALITIES SHOULD PROBABLY BE INCORPORATED BEFORE TESTING_RESULTS ARE RETURNED...\n",
    "def merge_subjects(testing_results):\n",
    "    '''\n",
    "    Takes in the testing_results\n",
    "    Merges testing instances with the exact same \n",
    "    sentence structure except the subject. \n",
    "    Example: \n",
    "    Input: \n",
    "        Mary ate the potato: ['Mary ate the potato', 'Mary ate the tomato']\n",
    "        John ate the potato: ['John ate the potato', 'John ate the tomato']\n",
    "    Output:\n",
    "        ate the potato: ['ate the potato','ate the tomato']\n",
    "    \n",
    "    '''\n",
    "    pass\n",
    "def merge_tense_and_subject(testing_results):\n",
    "    '''\n",
    "    Takes in the reduced form of groupings\n",
    "    Example: \n",
    "    Input: \n",
    "        ate the potato: ['ate the potato', 'ate the tomato']\n",
    "        eats the potato: ['eats the potato', 'eats the tomato']\n",
    "    Output:\n",
    "        eat the potato: ['ate the potato','ate the tomato','eats the tomato', 'eats the potato']\n",
    "    \n",
    "    '''\n",
    "    pass"
   ]
  },
  {
   "cell_type": "code",
   "execution_count": null,
   "metadata": {},
   "outputs": [],
   "source": []
  }
 ],
 "metadata": {
  "kernelspec": {
   "display_name": "Python 2",
   "language": "python",
   "name": "python2"
  },
  "language_info": {
   "codemirror_mode": {
    "name": "ipython",
    "version": 2
   },
   "file_extension": ".py",
   "mimetype": "text/x-python",
   "name": "python",
   "nbconvert_exporter": "python",
   "pygments_lexer": "ipython2",
   "version": "2.7.15"
  }
 },
 "nbformat": 4,
 "nbformat_minor": 2
}
